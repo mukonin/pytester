{
 "cells": [
  {
   "cell_type": "code",
   "execution_count": 1,
   "metadata": {},
   "outputs": [],
   "source": [
    "from Tkinter import *"
   ]
  },
  {
   "cell_type": "code",
   "execution_count": 2,
   "metadata": {},
   "outputs": [],
   "source": [
    "from repo import read_repo\n",
    "from repo import write_repo"
   ]
  },
  {
   "cell_type": "code",
   "execution_count": 3,
   "metadata": {},
   "outputs": [],
   "source": [
    "label_font = (\"Helvetica\", 18)\n",
    "button_font = (\"Helvetica\", 16)\n",
    "question_font = (\"Helvetica\", 14)\n",
    "answer_font = (\"Helvetica\", 14)"
   ]
  },
  {
   "cell_type": "code",
   "execution_count": 36,
   "metadata": {},
   "outputs": [],
   "source": [
    "def mapping():\n",
    "    tests = []\n",
    "    test1 = {\n",
    "        \"question\": \"вопрос 1\",\n",
    "        \"answer_1\": \"ответ 1\",\n",
    "        \"answer_2\": \"ответ 2\",\n",
    "        \"answer_3\": \"ответ 3\",\n",
    "        \"answer_4\": \"ответ 4\",\n",
    "        \"correct\": 2\n",
    "    }\n",
    "    test2 = {\n",
    "        \"question\": \"вопрос 2\",\n",
    "        \"answer_1\": \"ответ 1\",\n",
    "        \"answer_2\": \"ответ 2\",\n",
    "        \"answer_3\": \"ответ 3\",\n",
    "        \"answer_4\": \"ответ 4\",\n",
    "        \"correct\": 3\n",
    "    }\n",
    "    tests.append(test1)\n",
    "    tests.append(test2)\n",
    "    write_repo('abc', tests)\n",
    "    tests = read_repo('abc')\n",
    "    print tests[0]['question']"
   ]
  },
  {
   "cell_type": "code",
   "execution_count": 62,
   "metadata": {},
   "outputs": [],
   "source": [
    "def next_question():\n",
    "    save_question()\n",
    "    global question_index\n",
    "    if question_index < (len(questions) - 1):\n",
    "        # save current question\n",
    "        question_index = question_index + 1\n",
    "        clear_all()\n",
    "        draw_question()"
   ]
  },
  {
   "cell_type": "code",
   "execution_count": 77,
   "metadata": {},
   "outputs": [],
   "source": [
    "def prev_question():\n",
    "    save_question()\n",
    "    global question_index\n",
    "    if question_index > 0:\n",
    "        # save current question\n",
    "        question_index = question_index - 1\n",
    "        clear_all()\n",
    "        draw_question()"
   ]
  },
  {
   "cell_type": "code",
   "execution_count": 78,
   "metadata": {},
   "outputs": [],
   "source": [
    "def add_question():\n",
    "    save_question()\n",
    "    global question_index\n",
    "    new_question = get_empty_question()\n",
    "    questions.append(new_question)\n",
    "    question_index = len(questions) - 1\n",
    "    clear_all()\n",
    "    draw_question()"
   ]
  },
  {
   "cell_type": "code",
   "execution_count": 81,
   "metadata": {},
   "outputs": [],
   "source": [
    "def save_question():\n",
    "    question = questions[question_index]\n",
    "    global question_text\n",
    "    global question_1_text\n",
    "    global question_2_text\n",
    "    global question_3_text\n",
    "    global question_4_text\n",
    "    question[\"question\"] = question_text.get(\"1.0\", 'end-1c')\n",
    "    question[\"answer_1\"] = question_1_text.get(\"1.0\", 'end-1c')\n",
    "    question[\"answer_2\"] = question_2_text.get(\"1.0\", 'end-1c')\n",
    "    question[\"answer_3\"] = question_3_text.get(\"1.0\", 'end-1c')\n",
    "    question[\"answer_4\"] = question_4_text.get(\"1.0\", 'end-1c')\n",
    "    question[\"correct\"] = rb_control.get()"
   ]
  },
  {
   "cell_type": "code",
   "execution_count": 90,
   "metadata": {},
   "outputs": [],
   "source": [
    "def del_question():\n",
    "    global question_index\n",
    "    del questions[question_index]\n",
    "    if question_index == len(questions):\n",
    "        question_index = question_index - 1\n",
    "    clear_all()\n",
    "    draw_question()"
   ]
  },
  {
   "cell_type": "code",
   "execution_count": 99,
   "metadata": {},
   "outputs": [],
   "source": [
    "def save_all():\n",
    "    save_question()\n",
    "    write_repo(password, questions)"
   ]
  },
  {
   "cell_type": "code",
   "execution_count": 7,
   "metadata": {},
   "outputs": [],
   "source": [
    "def clear_all():\n",
    "    for element in elements:\n",
    "        element.place_forget()\n",
    "    del elements[:]"
   ]
  },
  {
   "cell_type": "code",
   "execution_count": 8,
   "metadata": {},
   "outputs": [],
   "source": [
    "class App(Frame):\n",
    "    def __init__(self, master = None):\n",
    "        Frame.__init__(self, master)\n",
    "        self.master = master"
   ]
  },
  {
   "cell_type": "code",
   "execution_count": 73,
   "metadata": {},
   "outputs": [],
   "source": [
    "def draw_pass():\n",
    "    local_elements = []\n",
    "\n",
    "    pass_input = Text(height = 1, width = 20, font = question_font)\n",
    "    pass_input.place(x = 5, y = 5)\n",
    "    local_elements.append(pass_input)\n",
    "\n",
    "    pass_button = Button(text = \"відкрити\", command = lambda: open_repo(pass_input.get(\"1.0\", 'end-1c')), height = 1, width = 10, font = button_font)\n",
    "    pass_button.place(x = 5, y = 35)\n",
    "    local_elements.append(pass_button)\n",
    "    \n",
    "    elements.extend(local_elements)"
   ]
  },
  {
   "cell_type": "code",
   "execution_count": 93,
   "metadata": {},
   "outputs": [],
   "source": [
    "def open_repo(key):\n",
    "    global password\n",
    "    password = key\n",
    "    try:\n",
    "        questions.extend(read_repo(key))\n",
    "        clear_all()\n",
    "        if len(questions) == 0:\n",
    "            new_question = get_empty_question()\n",
    "            questions.append(new_question)\n",
    "        draw_question()\n",
    "    except IOError:\n",
    "        pass\n",
    "        clear_all()\n",
    "        if len(questions) == 0:\n",
    "            new_question = get_empty_question()\n",
    "            questions.append(new_question)\n",
    "        draw_question()\n",
    "    except TypeError:\n",
    "        root.destroy()\n",
    "        quit()\n",
    "    except ValueError:\n",
    "        root.destroy()\n",
    "        quit()"
   ]
  },
  {
   "cell_type": "code",
   "execution_count": 11,
   "metadata": {},
   "outputs": [],
   "source": [
    "def get_empty_question():\n",
    "    return {\n",
    "        \"question\": \"\",\n",
    "        \"answer_1\": \"\",\n",
    "        \"answer_2\": \"\",\n",
    "        \"answer_3\": \"\",\n",
    "        \"answer_4\": \"\",\n",
    "        \"correct\": 1\n",
    "    }"
   ]
  },
  {
   "cell_type": "code",
   "execution_count": 96,
   "metadata": {},
   "outputs": [],
   "source": [
    "def draw_question():\n",
    "    local_elements = []\n",
    "    question = questions[question_index]\n",
    "\n",
    "    question_header = Label(text = \"Питання: {}/{}\".format(question_index + 1, len(questions)), font = label_font)\n",
    "    question_header.place(x = 5, y = 0)\n",
    "    local_elements.append(question_header)\n",
    "    \n",
    "    global question_text\n",
    "    question_text = Text(height = 10, width = 78, wrap = WORD, font = question_font)\n",
    "    question_text.place(x = 5, y = 30)\n",
    "    question_text.insert(END, question[\"question\"])\n",
    "    local_elements.append(question_text)\n",
    "    \n",
    "    answer_label = Label(text = \"Варіанти відповідей:\", font = label_font)\n",
    "    answer_label.place(x = 5, y = 250)\n",
    "    local_elements.append(answer_label)\n",
    "    \n",
    "    rb_control.set(question[\"correct\"])\n",
    "    \n",
    "    answer_1_rb = Radiobutton(variable = rb_control, value = 1)\n",
    "    answer_1_rb.place(y = 300)\n",
    "    local_elements.append(answer_1_rb)\n",
    "\n",
    "    answer_2_rb = Radiobutton(variable = rb_control, value = 2)\n",
    "    answer_2_rb.place(y = 350)\n",
    "    local_elements.append(answer_2_rb)\n",
    "\n",
    "    answer_3_rb = Radiobutton(variable = rb_control, value = 3)\n",
    "    answer_3_rb.place(y = 400)\n",
    "    local_elements.append(answer_3_rb)\n",
    "\n",
    "    answer_4_rb = Radiobutton(variable = rb_control, value = 4)\n",
    "    answer_4_rb.place(y = 450)\n",
    "    local_elements.append(answer_4_rb)\n",
    "    \n",
    "    global question_1_text\n",
    "    question_1_text = Text(height = 2, width = 75, wrap = WORD, font = answer_font)\n",
    "    question_1_text.place(x = 35, y = 285)\n",
    "    question_1_text.insert(END, question[\"answer_1\"])\n",
    "    local_elements.append(question_1_text)\n",
    "    \n",
    "    global question_2_text\n",
    "    question_2_text = Text(height = 2, width = 75, wrap = WORD, font = answer_font)\n",
    "    question_2_text.place(x = 35, y = 335)\n",
    "    question_2_text.insert(END, question[\"answer_2\"])\n",
    "    local_elements.append(question_2_text)\n",
    "    \n",
    "    global question_3_text\n",
    "    question_3_text = Text(height = 2, width = 75, wrap = WORD, font = answer_font)\n",
    "    question_3_text.place(x = 35, y = 385)\n",
    "    question_3_text.insert(END, question[\"answer_3\"])\n",
    "    local_elements.append(question_3_text)\n",
    "    \n",
    "    global question_4_text\n",
    "    question_4_text = Text(height = 2, width = 75, wrap = WORD, font = answer_font)\n",
    "    question_4_text.place(x = 35, y = 435)\n",
    "    question_4_text.insert(END, question[\"answer_4\"])\n",
    "    local_elements.append(question_4_text)\n",
    "    \n",
    "    prev_button = Button(text = \"попередне\", command = prev_question, height = 1, width = 10, font = button_font)\n",
    "    prev_button.place(x = 5, y = 500)\n",
    "    local_elements.append(prev_button)\n",
    "    \n",
    "    next_button = Button(text = \"наступне\", command = next_question, height = 1, width = 10, font = button_font)\n",
    "    next_button.place(x = 200, y = 500)\n",
    "    local_elements.append(next_button)\n",
    "    \n",
    "    add_button = Button(text = \"додати\", command = add_question, height = 1, width = 10, font = button_font)\n",
    "    add_button.place(x = 5, y = 550)\n",
    "    local_elements.append(add_button)\n",
    "    \n",
    "    del_button = Button(text = \"видалити\", command = del_question, height = 1, width = 10, font = button_font)\n",
    "    del_button.place(x = 200, y = 550)\n",
    "    local_elements.append(del_button)\n",
    "    \n",
    "    save_button = Button(text = \"зберегти\", command = save_all, height = 1, width = 10, font = button_font)\n",
    "    save_button.place(x = 600, y = 550)\n",
    "    local_elements.append(save_button)\n",
    "\n",
    "    elements.extend(local_elements)"
   ]
  },
  {
   "cell_type": "code",
   "execution_count": 102,
   "metadata": {},
   "outputs": [],
   "source": [
    "root = Tk()\n",
    "root.geometry(\"800x600\")\n",
    "root.wm_title(\"Тест\")\n",
    "\n",
    "elements = []\n",
    "questions = []\n",
    "question_index = 0\n",
    "password = ''\n",
    "rb_control = IntVar()\n",
    "\n",
    "question_text = {}\n",
    "question_1_text = {}\n",
    "question_2_text = {}\n",
    "question_3_text = {}\n",
    "question_4_text = {}\n",
    "\n",
    "\n",
    "draw_pass()\n",
    "\n",
    "root.mainloop()"
   ]
  }
 ],
 "metadata": {
  "kernelspec": {
   "display_name": "Python 2",
   "language": "python",
   "name": "python2"
  },
  "language_info": {
   "codemirror_mode": {
    "name": "ipython",
    "version": 2
   },
   "file_extension": ".py",
   "mimetype": "text/x-python",
   "name": "python",
   "nbconvert_exporter": "python",
   "pygments_lexer": "ipython2",
   "version": "2.7.17"
  }
 },
 "nbformat": 4,
 "nbformat_minor": 2
}
