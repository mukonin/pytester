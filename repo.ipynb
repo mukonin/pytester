{
 "cells": [
  {
   "cell_type": "code",
   "execution_count": 54,
   "metadata": {},
   "outputs": [],
   "source": [
    "import base64\n",
    "import json"
   ]
  },
  {
   "cell_type": "code",
   "execution_count": 55,
   "metadata": {},
   "outputs": [],
   "source": [
    "# coding: utf-8"
   ]
  },
  {
   "cell_type": "code",
   "execution_count": 56,
   "metadata": {},
   "outputs": [],
   "source": [
    "repo_filename = 'repo.db'"
   ]
  },
  {
   "cell_type": "code",
   "execution_count": 57,
   "metadata": {},
   "outputs": [],
   "source": [
    "def read_file(repo_file):\n",
    "    with open(repo_file, 'r') as input_file:\n",
    "        return input_file.readlines()[0]"
   ]
  },
  {
   "cell_type": "code",
   "execution_count": 58,
   "metadata": {},
   "outputs": [],
   "source": [
    "def write_file(repo_file, line):\n",
    "    with open(repo_file, 'w') as output_file:\n",
    "        output_file.write(line)"
   ]
  },
  {
   "cell_type": "code",
   "execution_count": 59,
   "metadata": {},
   "outputs": [],
   "source": [
    "def encode(key, string):\n",
    "    base64_string = base64.urlsafe_b64encode(string)\n",
    "    encoded_chars = []\n",
    "    for index in xrange(len(base64_string)):\n",
    "        key_char = key[index % len(key)]\n",
    "        encoded_char = chr(ord(base64_string[index]) + ord(key_char) % 256)\n",
    "        encoded_chars.append(encoded_char)\n",
    "    return ''.join(encoded_chars)"
   ]
  },
  {
   "cell_type": "code",
   "execution_count": 60,
   "metadata": {},
   "outputs": [],
   "source": [
    "def decode(key, string):\n",
    "    decoded_chars = []\n",
    "    for index in xrange(len(string)):\n",
    "        key_char = key[index % len(key)]\n",
    "        decoded_char = chr(ord(string[index]) - ord(key_char) % 256)\n",
    "        decoded_chars.append(decoded_char)\n",
    "    decoded_string = ''.join(decoded_chars)\n",
    "    return base64.urlsafe_b64decode(decoded_string)"
   ]
  },
  {
   "cell_type": "code",
   "execution_count": 61,
   "metadata": {},
   "outputs": [],
   "source": [
    "def read_repo(key):\n",
    "    encoded_json_string = read_file(repo_filename)\n",
    "    json_string = decode(key, encoded_json_string)\n",
    "    return json.loads(json_string)"
   ]
  },
  {
   "cell_type": "code",
   "execution_count": 62,
   "metadata": {},
   "outputs": [],
   "source": [
    "def write_repo(key, tests):\n",
    "    json_string = json.dumps(tests)\n",
    "    encoded_json_string = encode(key, json_string)\n",
    "    write_file(repo_filename, encoded_json_string)"
   ]
  }
 ],
 "metadata": {
  "kernelspec": {
   "display_name": "Python 2",
   "language": "python",
   "name": "python2"
  },
  "language_info": {
   "codemirror_mode": {
    "name": "ipython",
    "version": 2
   },
   "file_extension": ".py",
   "mimetype": "text/x-python",
   "name": "python",
   "nbconvert_exporter": "python",
   "pygments_lexer": "ipython2",
   "version": "2.7.17"
  }
 },
 "nbformat": 4,
 "nbformat_minor": 2
}
